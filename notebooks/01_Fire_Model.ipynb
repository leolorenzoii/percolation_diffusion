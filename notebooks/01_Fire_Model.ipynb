{
 "cells": [
  {
   "cell_type": "markdown",
   "id": "ea9cb565",
   "metadata": {},
   "source": [
    "# Fire Model"
   ]
  },
  {
   "cell_type": "code",
   "execution_count": 22,
   "id": "fe5f6ec4",
   "metadata": {
    "ExecuteTime": {
     "end_time": "2021-11-09T04:41:43.840744Z",
     "start_time": "2021-11-09T04:41:43.826744Z"
    }
   },
   "outputs": [],
   "source": [
    "import pandas as pd\n",
    "from matplotlib import rcParams\n",
    "import matplotlib.pyplot as plt\n",
    "\n",
    "rcParams.update({'figure.figsize': (8, 6), 'axes.spines.top': False,\n",
    "                 'axes.spines.right': False, 'axes.labelsize': 14,\n",
    "                 'axes.titlesize': 16, 'axes.titleweight': 'bold',\n",
    "                 'lines.linewidth': 3})"
   ]
  },
  {
   "cell_type": "markdown",
   "id": "b3cb1d4c",
   "metadata": {},
   "source": [
    "## Loading of Results"
   ]
  },
  {
   "cell_type": "code",
   "execution_count": 4,
   "id": "831b8e3c",
   "metadata": {
    "ExecuteTime": {
     "end_time": "2021-11-09T04:37:18.103733Z",
     "start_time": "2021-11-09T04:37:17.666733Z"
    }
   },
   "outputs": [],
   "source": [
    "# Set results path and column names\n",
    "results_path = '../results/modified_fire_table.csv'\n",
    "col_names = ['run_number', 'density', 'moore', 'step', 'pct_burned_trees',\n",
    "             'percolated']\n",
    "\n",
    "# Read csv then change column names\n",
    "results = pd.read_csv(results_path, skiprows=6)\n",
    "results.columns = col_names"
   ]
  },
  {
   "cell_type": "markdown",
   "id": "f9751a1b",
   "metadata": {},
   "source": [
    "## Percolation Probability versus Density"
   ]
  },
  {
   "cell_type": "code",
   "execution_count": 10,
   "id": "99c1e5f3",
   "metadata": {
    "ExecuteTime": {
     "end_time": "2021-11-09T04:38:44.126753Z",
     "start_time": "2021-11-09T04:38:44.002714Z"
    }
   },
   "outputs": [],
   "source": [
    "# Get percolation results\n",
    "percolation_results = (results.groupby(['run_number', 'density', 'moore'],\n",
    "                                       as_index=False).percolated.max())"
   ]
  },
  {
   "cell_type": "markdown",
   "id": "5421b286",
   "metadata": {},
   "source": [
    "### Von Neumann"
   ]
  },
  {
   "cell_type": "code",
   "execution_count": 23,
   "id": "dc4b58e5",
   "metadata": {
    "ExecuteTime": {
     "end_time": "2021-11-09T04:41:49.161427Z",
     "start_time": "2021-11-09T04:41:49.154426Z"
    }
   },
   "outputs": [],
   "source": [
    "vn_percolation = percolation_results[percolation_results.moore == False]"
   ]
  },
  {
   "cell_type": "code",
   "execution_count": 40,
   "id": "e2e6e370",
   "metadata": {
    "ExecuteTime": {
     "end_time": "2021-11-09T04:47:12.963303Z",
     "start_time": "2021-11-09T04:47:12.850296Z"
    }
   },
   "outputs": [
    {
     "data": {
      "image/png": "[encoded data removed]",
      "text/plain": [
       "<Figure size 576x432 with 1 Axes>"
      ]
     },
     "metadata": {
      "needs_background": "light"
     },
     "output_type": "display_data"
    }
   ],
   "source": [
    "vn_results = vn_percolation.groupby('density').percolated.mean()\n",
    "\n",
    "ax = vn_results.plot()\n",
    "ax.set_ylabel(\"% Percolation\")\n",
    "ax.set_xlabel(\"Density\")\n",
    "ax.set_title(\"Von-Neumann Neighbors\");"
   ]
  },
  {
   "cell_type": "code",
   "execution_count": 33,
   "id": "0c17c158",
   "metadata": {
    "ExecuteTime": {
     "end_time": "2021-11-09T04:44:17.853737Z",
     "start_time": "2021-11-09T04:44:17.832741Z"
    }
   },
   "outputs": [
    {
     "data": {
      "text/html": [
       "<div>\n",
       "<style scoped>\n",
       "    .dataframe tbody tr th:only-of-type {\n",
       "        vertical-align: middle;\n",
       "    }\n",
       "\n",
       "    .dataframe tbody tr th {\n",
       "        vertical-align: top;\n",
       "    }\n",
       "\n",
       "    .dataframe thead th {\n",
       "        text-align: right;\n",
       "    }\n",
       "</style>\n",
       "<table border=\"1\" class=\"dataframe\">\n",
       "  <thead>\n",
       "    <tr style=\"text-align: right;\">\n",
       "      <th></th>\n",
       "      <th>% percolation</th>\n",
       "    </tr>\n",
       "    <tr>\n",
       "      <th>density</th>\n",
       "      <th></th>\n",
       "    </tr>\n",
       "  </thead>\n",
       "  <tbody>\n",
       "    <tr>\n",
       "      <th>58</th>\n",
       "      <td>0.066667</td>\n",
       "    </tr>\n",
       "    <tr>\n",
       "      <th>59</th>\n",
       "      <td>0.333333</td>\n",
       "    </tr>\n",
       "    <tr>\n",
       "      <th>60</th>\n",
       "      <td>0.933333</td>\n",
       "    </tr>\n",
       "    <tr>\n",
       "      <th>61</th>\n",
       "      <td>1.000000</td>\n",
       "    </tr>\n",
       "  </tbody>\n",
       "</table>\n",
       "</div>"
      ],
      "text/plain": [
       "         % percolation\n",
       "density               \n",
       "58            0.066667\n",
       "59            0.333333\n",
       "60            0.933333\n",
       "61            1.000000"
      ]
     },
     "execution_count": 33,
     "metadata": {},
     "output_type": "execute_result"
    }
   ],
   "source": [
    "vn_results[57:61].to_frame(\"% percolation\")"
   ]
  },
  {
   "cell_type": "markdown",
   "id": "2b2e1f85",
   "metadata": {},
   "source": [
    "### Moore Neighbors"
   ]
  },
  {
   "cell_type": "code",
   "execution_count": 36,
   "id": "29604809",
   "metadata": {
    "ExecuteTime": {
     "end_time": "2021-11-09T04:46:35.004440Z",
     "start_time": "2021-11-09T04:46:34.993441Z"
    }
   },
   "outputs": [],
   "source": [
    "moore_percolation = percolation_results[percolation_results.moore == True]"
   ]
  },
  {
   "cell_type": "code",
   "execution_count": 52,
   "id": "082cf796",
   "metadata": {
    "ExecuteTime": {
     "end_time": "2021-11-09T09:23:21.678523Z",
     "start_time": "2021-11-09T09:23:21.644522Z"
    }
   },
   "outputs": [
    {
     "data": {
      "text/html": [
       "<div>\n",
       "<style scoped>\n",
       "    .dataframe tbody tr th:only-of-type {\n",
       "        vertical-align: middle;\n",
       "    }\n",
       "\n",
       "    .dataframe tbody tr th {\n",
       "        vertical-align: top;\n",
       "    }\n",
       "\n",
       "    .dataframe thead th {\n",
       "        text-align: right;\n",
       "    }\n",
       "</style>\n",
       "<table border=\"1\" class=\"dataframe\">\n",
       "  <thead>\n",
       "    <tr style=\"text-align: right;\">\n",
       "      <th></th>\n",
       "      <th>mean</th>\n",
       "      <th>std</th>\n",
       "    </tr>\n",
       "    <tr>\n",
       "      <th>density</th>\n",
       "      <th></th>\n",
       "      <th></th>\n",
       "    </tr>\n",
       "  </thead>\n",
       "  <tbody>\n",
       "    <tr>\n",
       "      <th>36</th>\n",
       "      <td>0.000000</td>\n",
       "      <td>0.000000</td>\n",
       "    </tr>\n",
       "    <tr>\n",
       "      <th>37</th>\n",
       "      <td>0.000000</td>\n",
       "      <td>0.000000</td>\n",
       "    </tr>\n",
       "    <tr>\n",
       "      <th>38</th>\n",
       "      <td>0.000000</td>\n",
       "      <td>0.000000</td>\n",
       "    </tr>\n",
       "    <tr>\n",
       "      <th>39</th>\n",
       "      <td>0.033333</td>\n",
       "      <td>0.182574</td>\n",
       "    </tr>\n",
       "    <tr>\n",
       "      <th>40</th>\n",
       "      <td>0.166667</td>\n",
       "      <td>0.379049</td>\n",
       "    </tr>\n",
       "    <tr>\n",
       "      <th>41</th>\n",
       "      <td>0.733333</td>\n",
       "      <td>0.449776</td>\n",
       "    </tr>\n",
       "    <tr>\n",
       "      <th>42</th>\n",
       "      <td>0.900000</td>\n",
       "      <td>0.305129</td>\n",
       "    </tr>\n",
       "    <tr>\n",
       "      <th>43</th>\n",
       "      <td>1.000000</td>\n",
       "      <td>0.000000</td>\n",
       "    </tr>\n",
       "    <tr>\n",
       "      <th>44</th>\n",
       "      <td>1.000000</td>\n",
       "      <td>0.000000</td>\n",
       "    </tr>\n",
       "    <tr>\n",
       "      <th>45</th>\n",
       "      <td>1.000000</td>\n",
       "      <td>0.000000</td>\n",
       "    </tr>\n",
       "  </tbody>\n",
       "</table>\n",
       "</div>"
      ],
      "text/plain": [
       "             mean       std\n",
       "density                    \n",
       "36       0.000000  0.000000\n",
       "37       0.000000  0.000000\n",
       "38       0.000000  0.000000\n",
       "39       0.033333  0.182574\n",
       "40       0.166667  0.379049\n",
       "41       0.733333  0.449776\n",
       "42       0.900000  0.305129\n",
       "43       1.000000  0.000000\n",
       "44       1.000000  0.000000\n",
       "45       1.000000  0.000000"
      ]
     },
     "execution_count": 52,
     "metadata": {},
     "output_type": "execute_result"
    }
   ],
   "source": [
    "moore_percolation.groupby('density').percolated.agg(['mean', 'std'])[35:45]"
   ]
  },
  {
   "cell_type": "code",
   "execution_count": 41,
   "id": "3673ce86",
   "metadata": {
    "ExecuteTime": {
     "end_time": "2021-11-09T04:47:24.037865Z",
     "start_time": "2021-11-09T04:47:23.920777Z"
    }
   },
   "outputs": [
    {
     "data": {
      "image/png": "[encoded data removed]",
      "text/plain": [
       "<Figure size 576x432 with 1 Axes>"
      ]
     },
     "metadata": {
      "needs_background": "light"
     },
     "output_type": "display_data"
    }
   ],
   "source": [
    "moore_results = moore_percolation.groupby('density').percolated.mean()\n",
    "\n",
    "ax = moore_results.plot()\n",
    "ax.set_ylabel(\"% Percolation\")\n",
    "ax.set_xlabel(\"Density\")\n",
    "ax.set_title(\"Moore Neighbors\");"
   ]
  },
  {
   "cell_type": "code",
   "execution_count": 43,
   "id": "6c01d04b",
   "metadata": {
    "ExecuteTime": {
     "end_time": "2021-11-09T08:14:20.739721Z",
     "start_time": "2021-11-09T08:14:20.642451Z"
    }
   },
   "outputs": [
    {
     "data": {
      "text/html": [
       "<div>\n",
       "<style scoped>\n",
       "    .dataframe tbody tr th:only-of-type {\n",
       "        vertical-align: middle;\n",
       "    }\n",
       "\n",
       "    .dataframe tbody tr th {\n",
       "        vertical-align: top;\n",
       "    }\n",
       "\n",
       "    .dataframe thead th {\n",
       "        text-align: right;\n",
       "    }\n",
       "</style>\n",
       "<table border=\"1\" class=\"dataframe\">\n",
       "  <thead>\n",
       "    <tr style=\"text-align: right;\">\n",
       "      <th></th>\n",
       "      <th>% percolation</th>\n",
       "    </tr>\n",
       "    <tr>\n",
       "      <th>density</th>\n",
       "      <th></th>\n",
       "    </tr>\n",
       "  </thead>\n",
       "  <tbody>\n",
       "    <tr>\n",
       "      <th>38</th>\n",
       "      <td>0.000000</td>\n",
       "    </tr>\n",
       "    <tr>\n",
       "      <th>39</th>\n",
       "      <td>0.033333</td>\n",
       "    </tr>\n",
       "    <tr>\n",
       "      <th>40</th>\n",
       "      <td>0.166667</td>\n",
       "    </tr>\n",
       "    <tr>\n",
       "      <th>41</th>\n",
       "      <td>0.733333</td>\n",
       "    </tr>\n",
       "    <tr>\n",
       "      <th>42</th>\n",
       "      <td>0.900000</td>\n",
       "    </tr>\n",
       "    <tr>\n",
       "      <th>43</th>\n",
       "      <td>1.000000</td>\n",
       "    </tr>\n",
       "    <tr>\n",
       "      <th>44</th>\n",
       "      <td>1.000000</td>\n",
       "    </tr>\n",
       "    <tr>\n",
       "      <th>45</th>\n",
       "      <td>1.000000</td>\n",
       "    </tr>\n",
       "  </tbody>\n",
       "</table>\n",
       "</div>"
      ],
      "text/plain": [
       "         % percolation\n",
       "density               \n",
       "38            0.000000\n",
       "39            0.033333\n",
       "40            0.166667\n",
       "41            0.733333\n",
       "42            0.900000\n",
       "43            1.000000\n",
       "44            1.000000\n",
       "45            1.000000"
      ]
     },
     "execution_count": 43,
     "metadata": {},
     "output_type": "execute_result"
    }
   ],
   "source": [
    "moore_results[37:45].to_frame(\"% percolation\")"
   ]
  },
  {
   "cell_type": "markdown",
   "id": "6c19474b",
   "metadata": {
    "heading_collapsed": true
   },
   "source": [
    "## Percent Burned Trees"
   ]
  },
  {
   "cell_type": "code",
   "execution_count": 46,
   "id": "d5afe27a",
   "metadata": {
    "ExecuteTime": {
     "end_time": "2021-11-09T08:26:30.792040Z",
     "start_time": "2021-11-09T08:26:30.527389Z"
    },
    "hidden": true
   },
   "outputs": [],
   "source": [
    "# Get burned tree results\n",
    "bt_results = (results.groupby(['run_number', 'density', 'moore'],\n",
    "                              as_index=False).pct_burned_trees.max())"
   ]
  },
  {
   "cell_type": "markdown",
   "id": "5c1c3882",
   "metadata": {
    "hidden": true
   },
   "source": [
    "### Von Neumann"
   ]
  },
  {
   "cell_type": "code",
   "execution_count": 47,
   "id": "b8ef2808",
   "metadata": {
    "ExecuteTime": {
     "end_time": "2021-11-09T08:26:56.561234Z",
     "start_time": "2021-11-09T08:26:56.543236Z"
    },
    "hidden": true
   },
   "outputs": [],
   "source": [
    "vn_bt = bt_results[bt_results.moore == False]"
   ]
  },
  {
   "cell_type": "code",
   "execution_count": 48,
   "id": "5e518b0c",
   "metadata": {
    "ExecuteTime": {
     "end_time": "2021-11-09T08:27:10.583435Z",
     "start_time": "2021-11-09T08:27:09.999803Z"
    },
    "hidden": true
   },
   "outputs": [
    {
     "data": {
      "image/png": "[encoded data removed]",
      "text/plain": [
       "<Figure size 576x432 with 1 Axes>"
      ]
     },
     "metadata": {
      "needs_background": "light"
     },
     "output_type": "display_data"
    }
   ],
   "source": [
    "vn_bt_results = vn_bt.groupby('density').pct_burned_trees.mean()\n",
    "\n",
    "ax = vn_bt_results.plot()\n",
    "ax.set_ylabel(\"% Burned Trees\")\n",
    "ax.set_xlabel(\"Density\")\n",
    "ax.set_title(\"Von-Neumann Neighbors\");"
   ]
  },
  {
   "cell_type": "markdown",
   "id": "5a5371cb",
   "metadata": {
    "heading_collapsed": true,
    "hidden": true
   },
   "source": [
    "### Moore Neighbors"
   ]
  },
  {
   "cell_type": "code",
   "execution_count": 49,
   "id": "7b46963a",
   "metadata": {
    "ExecuteTime": {
     "end_time": "2021-11-09T08:27:48.575760Z",
     "start_time": "2021-11-09T08:27:48.558762Z"
    },
    "hidden": true
   },
   "outputs": [],
   "source": [
    "moore_bt = bt_results[bt_results.moore == True]"
   ]
  },
  {
   "cell_type": "code",
   "execution_count": 50,
   "id": "9bd711a3",
   "metadata": {
    "ExecuteTime": {
     "end_time": "2021-11-09T08:28:15.840233Z",
     "start_time": "2021-11-09T08:28:15.720198Z"
    },
    "hidden": true
   },
   "outputs": [
    {
     "data": {
      "image/png": "[encoded data removed]",
      "text/plain": [
       "<Figure size 576x432 with 1 Axes>"
      ]
     },
     "metadata": {
      "needs_background": "light"
     },
     "output_type": "display_data"
    }
   ],
   "source": [
    "moore_bt_results = moore_bt.groupby('density').pct_burned_trees.mean()\n",
    "\n",
    "ax = moore_bt_results.plot()\n",
    "ax.set_ylabel(\"% Burned Trees\")\n",
    "ax.set_xlabel(\"Density\")\n",
    "ax.set_title(\"Moore Neighbors\");"
   ]
  }
 ],
 "metadata": {
  "kernelspec": {
   "display_name": "Python 3 (ipykernel)",
   "language": "python",
   "name": "python3"
  },
  "language_info": {
   "codemirror_mode": {
    "name": "ipython",
    "version": 3
   },
   "file_extension": ".py",
   "mimetype": "text/x-python",
   "name": "python",
   "nbconvert_exporter": "python",
   "pygments_lexer": "ipython3",
   "version": "3.9.7"
  }
 },
 "nbformat": 4,
 "nbformat_minor": 5
}
